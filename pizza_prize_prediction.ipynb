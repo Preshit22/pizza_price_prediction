{
  "nbformat": 4,
  "nbformat_minor": 0,
  "metadata": {
    "colab": {
      "private_outputs": true,
      "provenance": []
    },
    "kernelspec": {
      "name": "python3",
      "display_name": "Python 3"
    },
    "language_info": {
      "name": "python"
    }
  },
  "cells": [
    {
      "cell_type": "code",
      "execution_count": null,
      "metadata": {
        "id": "9SHMuGduiqTZ"
      },
      "outputs": [],
      "source": [
        "import pandas as pd\n",
        "import matplotlib.pyplot as plt\n",
        "import seaborn as sns \n",
        "import numpy as np\n",
        "sns.set_theme(color_codes = True)"
      ]
    },
    {
      "cell_type": "code",
      "source": [
        "df = pd.read_csv(\"/content/pizza_v1.csv\")\n",
        "df.head()"
      ],
      "metadata": {
        "id": "tUL3eqTfj0rG"
      },
      "execution_count": null,
      "outputs": []
    },
    {
      "cell_type": "markdown",
      "source": [
        "#**Data Preprocessing**"
      ],
      "metadata": {
        "id": "hxb9nAelslJw"
      }
    },
    {
      "cell_type": "code",
      "source": [
        "# remove \"Rp\" & commas from \"price_rupiah\" column\n",
        "df[\"price_rupiah\"] = df[\"price_rupiah\"].str.replace('Rp', '').str.replace(',', '')"
      ],
      "metadata": {
        "id": "30WoalqKj0tK"
      },
      "execution_count": null,
      "outputs": []
    },
    {
      "cell_type": "code",
      "source": [
        "df.head()"
      ],
      "metadata": {
        "id": "-ImjC4chj0wm"
      },
      "execution_count": null,
      "outputs": []
    },
    {
      "cell_type": "code",
      "source": [
        "# check the number of unique value on object datatype\n",
        "df.select_dtypes(include = 'object').nunique()"
      ],
      "metadata": {
        "id": "UTvrGgFGj0yN"
      },
      "execution_count": null,
      "outputs": []
    },
    {
      "cell_type": "code",
      "source": [
        "# convert \"Amount\" coloummn to integer\n",
        "df['price_rupiah'] = df['price_rupiah'].astype(int)"
      ],
      "metadata": {
        "id": "XM4bvayrv3pU"
      },
      "execution_count": null,
      "outputs": []
    },
    {
      "cell_type": "markdown",
      "source": [
        "#**Segment Pizza Variant**"
      ],
      "metadata": {
        "id": "GOr33UfTw9TH"
      }
    },
    {
      "cell_type": "code",
      "source": [
        "df.variant.unique()"
      ],
      "metadata": {
        "id": "Z-6sTZoov3so"
      },
      "execution_count": null,
      "outputs": []
    },
    {
      "cell_type": "code",
      "source": [
        "# define function to segment pizza names into types\n",
        "def segment_variant(variant):\n",
        "     if 'veggie' in variant:\n",
        "         return 'Vegetarian'\n",
        "     elif 'meat' in variant or 'BBQ' in variant:\n",
        "          return 'Meat'\n",
        "     elif 'tuna' in variant:\n",
        "          return 'Seafood' \n",
        "     else:\n",
        "          return 'Other'\n",
        "  \n",
        "# apply function to 'Pizza Name column to create new 'Pizza Type' column\n",
        "df['variant'] = df['variant'].apply(segment_variant)"
      ],
      "metadata": {
        "id": "Ida6l5ZXv3vg"
      },
      "execution_count": null,
      "outputs": []
    },
    {
      "cell_type": "code",
      "source": [
        "plt.figure(figsize = (10,5))\n",
        "df['variant'].value_counts().plot(kind='bar')"
      ],
      "metadata": {
        "id": "LdjS4EkWv3yH"
      },
      "execution_count": null,
      "outputs": []
    },
    {
      "cell_type": "markdown",
      "source": [
        "## Exploratory Data Analysis"
      ],
      "metadata": {
        "id": "cxpFb65tLOR2"
      }
    },
    {
      "cell_type": "code",
      "source": [
        "# list of categorical variables to plot\n",
        "cat_vars = ['company', 'topping', 'variant', 'size', 'extra_sauce', 'extra_cheese']\n",
        "# create figure with subplots\n",
        "fig, axs = plt.subplots(nrows = 2, ncols = 3, figsize = (20,10))\n",
        "axs = axs.ravel()\n",
        "# create a barplot for each categorical variable\n",
        "for i, var in enumerate(cat_vars):\n",
        "  sns.barplot(x=var, y='price_rupiah', data = df, ax = axs[i], estimator = np.mean)\n",
        "  axs[i].set_xticklabels(axs[i].get_xticklabels(), rotation = 90)\n",
        "\n",
        "# adjust apacing between subplots\n",
        "fig.tight_layout()\n",
        "plt.show()\n"
      ],
      "metadata": {
        "id": "wQ-klTpCv31G"
      },
      "execution_count": null,
      "outputs": []
    },
    {
      "cell_type": "code",
      "source": [
        "sns.boxplot(x = 'diameter', data = df)"
      ],
      "metadata": {
        "id": "_ye7Cux0LMFJ"
      },
      "execution_count": null,
      "outputs": []
    },
    {
      "cell_type": "code",
      "source": [
        "sns.violinplot(x = 'diameter', data = df\n",
        "               )"
      ],
      "metadata": {
        "id": "n3t1UdAELMID"
      },
      "execution_count": null,
      "outputs": []
    },
    {
      "cell_type": "code",
      "source": [
        "sns.scatterplot(data = df, x = 'diameter', y = 'price_rupiah', hue = 'company')"
      ],
      "metadata": {
        "id": "4YqsP268LMK9"
      },
      "execution_count": null,
      "outputs": []
    },
    {
      "cell_type": "code",
      "source": [
        "df.head()"
      ],
      "metadata": {
        "id": "jDeGM9-4rfww"
      },
      "execution_count": null,
      "outputs": []
    },
    {
      "cell_type": "code",
      "source": [
        "df.tail(5)"
      ],
      "metadata": {
        "id": "4IxrNoWArf0E"
      },
      "execution_count": null,
      "outputs": []
    },
    {
      "cell_type": "code",
      "source": [
        "# check missing values\n",
        "check_missing = df.isnull().sum() * 100 / df.shape[0]\n",
        "check_missing[check_missing > 0].sort_values(ascending = False)"
      ],
      "metadata": {
        "id": "0Ebit3oDrf3f"
      },
      "execution_count": null,
      "outputs": []
    },
    {
      "cell_type": "markdown",
      "source": [
        "# Label Encoding for Object datatype "
      ],
      "metadata": {
        "id": "Su1JxHxsuOm4"
      }
    },
    {
      "cell_type": "code",
      "source": [
        "# Loop over each column in the datafrane where dtype is 'object'\n",
        "for col in df.select_dtypes(include = ['object']).columns:\n",
        "  # print the column name & the unique values\n",
        "  print(f\"{col}: {df[col].unique() } \")"
      ],
      "metadata": {
        "id": "DN324jWOrf6a"
      },
      "execution_count": null,
      "outputs": []
    },
    {
      "cell_type": "code",
      "source": [
        "from sklearn import preprocessing \n",
        "# Loop over each column in the Dataframe where dtype is 'object'\n",
        "for col in df.select_dtypes(include = ['object']).columns:\n",
        "  # Initialize the label encoder\n",
        "  label_encoder = preprocessing.LabelEncoder()\n",
        "  # Fit the encoder to the unique values in the column\n",
        "  label_encoder.fit(df[col].unique())\n",
        "  # Transform the column using the encoder\n",
        "  df[col] = label_encoder.transform(df[col])\n",
        "  # Print the column name & the unique encoded values\n",
        "  print(f\"{col}: {df[col].unique()}\")"
      ],
      "metadata": {
        "id": "5ngMpgzrrf9p"
      },
      "execution_count": null,
      "outputs": []
    },
    {
      "cell_type": "markdown",
      "source": [
        "I will not remove the outlier beacuse the dataset is very small"
      ],
      "metadata": {
        "id": "4Lx0U7WC1x1v"
      }
    },
    {
      "cell_type": "code",
      "source": [
        "# correlation heatmap\n",
        "plt.figure(figsize = (20,16))\n",
        "sns.heatmap(df.corr(), fmt = '.2g', annot = True)"
      ],
      "metadata": {
        "id": "2mvd_IxsrgA7"
      },
      "execution_count": null,
      "outputs": []
    },
    {
      "cell_type": "markdown",
      "source": [
        "#*Train Test Split*"
      ],
      "metadata": {
        "id": "Xt99OMQk3Pvz"
      }
    },
    {
      "cell_type": "code",
      "source": [
        "x = df.drop('price_rupiah', axis = 1)\n",
        "y = df['price_rupiah']"
      ],
      "metadata": {
        "id": "bAg4QjLV3N-2"
      },
      "execution_count": null,
      "outputs": []
    },
    {
      "cell_type": "code",
      "source": [
        "# test size 20% & train size 80%\n",
        "from sklearn.model_selection import train_test_split\n",
        "from sklearn.metrics import accuracy_score\n",
        "x_train, x_test, y_train, y_test = train_test_split(x, y, test_size = 0.2, random_state = 0)"
      ],
      "metadata": {
        "id": "TfD0oyYOrgD9"
      },
      "execution_count": null,
      "outputs": []
    },
    {
      "cell_type": "markdown",
      "source": [
        "## Decision Tree Regressor"
      ],
      "metadata": {
        "id": "tNpTDUZx8dTx"
      }
    },
    {
      "cell_type": "code",
      "source": [
        "from sklearn.tree import DecisionTreeRegressor\n",
        "from sklearn.model_selection import GridSearchCV\n",
        "# Create DecisionTreeRegressor object\n",
        "dtree = DecisionTreeRegressor()\n",
        "# Define the hyperparameters to tune & their values\n",
        "param_grid = {\n",
        "    'max_depth': [2,4,6,8],\n",
        "    'min_samples_split': [2,4,6,8],\n",
        "    'min_samples_leaf': [1,2,3,4],\n",
        "    'max_features': ['auto', 'sqrt', 'log2']\n",
        "}\n",
        "# create a GridSearchCV object\n",
        "grid_search = GridSearchCV(dtree, param_grid, cv = 5, scoring = 'neg_mean_squared_error')\n",
        "# fit the GridSearchCV object to the data\n",
        "grid_search.fit(x_train, y_train)\n",
        "# Print the hyperparameters\n",
        "print(grid_search.best_params_)"
      ],
      "metadata": {
        "id": "Uqx4emVtrgGv"
      },
      "execution_count": null,
      "outputs": []
    },
    {
      "cell_type": "code",
      "source": [
        "from sklearn.tree import DecisionTreeRegressor\n",
        "dtree = DecisionTreeRegressor(random_state=0, max_depth = 8, max_features='auto', min_samples_leaf = 1, min_samples_split= 2)\n",
        "dtree.fit(x_train, y_train)"
      ],
      "metadata": {
        "id": "7FSFwEudM34b"
      },
      "execution_count": null,
      "outputs": []
    },
    {
      "cell_type": "code",
      "source": [
        "from sklearn import metrics\n",
        "from sklearn.metrics import mean_absolute_percentage_error\n",
        "import math\n",
        "y_pred = dtree.predict(x_test)\n",
        "mae = metrics.mean_absolute_error(y_test, y_pred)\n",
        "mape = mean_absolute_percentage_error(y_test, y_pred)\n",
        "mse = metrics.mean_squared_error(y_test, y_pred)\n",
        "r2 = metrics.r2_score(y_test, y_pred)\n",
        "rmse = math.sqrt(mse)\n",
        "print('MAE is {}'.format(mae))\n",
        "print('MAPE is {}'.format(mape))\n",
        "print('MSE is {}'.format(mse))\n",
        "print('R2 score is {}'.format(r2))\n",
        "print('RMSE score is {}'.format(rmse))"
      ],
      "metadata": {
        "id": "Xz28GgbNM37T"
      },
      "execution_count": null,
      "outputs": []
    },
    {
      "cell_type": "code",
      "source": [
        "imp_df = pd.DataFrame({\n",
        "     'Feature Name': x_train.columns,\n",
        "     'Importance' : dtree.feature_importances_\n",
        " })\n",
        "fi = imp_df.sort_values(by = \"Importance\", ascending = False)\n",
        "fi2 = fi.head(10)\n",
        "plt.figure(figsize = (10,8))\n",
        "sns.barplot(data = fi2, x = 'Importance', y = 'Feature Name')\n",
        "plt.title('Feature Imporrtance Attribbutes (Decision Tree Rgressor)', fontsize = 18)\n",
        "plt.xlabel('Importance', fontsize = 16)\n",
        "plt.ylabel('Feature Name', fontsize = 16)\n",
        "plt.show()"
      ],
      "metadata": {
        "id": "FZbn3cibM3_b"
      },
      "execution_count": null,
      "outputs": []
    },
    {
      "cell_type": "code",
      "source": [
        "pip install shap"
      ],
      "metadata": {
        "id": "rdd3I3NRi6Ri"
      },
      "execution_count": null,
      "outputs": []
    },
    {
      "cell_type": "code",
      "source": [
        "import shap \n",
        "explainer = shap.TreeExplainer(dtree)\n",
        "shap_values = explainer.shap_values(x_test)\n",
        "shap.summary_plot(shap_values, x_test)"
      ],
      "metadata": {
        "id": "3vUNnBjZGfhq"
      },
      "execution_count": null,
      "outputs": []
    },
    {
      "cell_type": "code",
      "source": [
        "explainer = shap.Explainer(dtree, x_test)\n",
        "shap_values = explainer(x_test)\n",
        "shap.plots.waterfall(shap_values[0])"
      ],
      "metadata": {
        "id": "bYgbqZx-gVDs"
      },
      "execution_count": null,
      "outputs": []
    },
    {
      "cell_type": "markdown",
      "source": [
        "# **Random** **Forest** **Regressor**"
      ],
      "metadata": {
        "id": "bjQFaD10pgnv"
      }
    },
    {
      "cell_type": "code",
      "source": [
        "from sklearn.ensemble import RandomForestRegressor\n",
        "from sklearn.model_selection import GridSearchCV\n",
        "# create a Random Forest Regressor object\n",
        "rf =  RandomForestRegressor()\n",
        "# Define the hyperparameter grid\n",
        "param_grid = {\n",
        "    'max_depth' : [3,5,7,9],\n",
        "    'min_samples_split' : [2, 5, 10],\n",
        "    'min_samples_leaf' : [1, 2, 4],\n",
        "    'max_features' : ['auto','sqrt']\n",
        "}\n",
        "# create a GridSearchCV object\n",
        "grid_search = GridSearchCV(rf, param_grid, cv = 5, scoring = 'r2')\n",
        "# Fit the GrdSearchCV object to the training data\n",
        "grid_search.fit(x_train, y_train)\n",
        "# print the bset hyperparameter\n",
        "print(\"Best hyperparameters: \", grid_search.best_params_)\n"
      ],
      "metadata": {
        "id": "mS-zM50ngVGo"
      },
      "execution_count": null,
      "outputs": []
    },
    {
      "cell_type": "code",
      "source": [
        "from sklearn.ensemble import RandomForestRegressor\n",
        "rf = RandomForestRegressor(random_state = 0, max_depth=9, min_samples_split = 2, min_samples_leaf = 1, max_features = 'auto')\n",
        "rf.fit(x_train, y_train)"
      ],
      "metadata": {
        "id": "IqymtU0n02EP"
      },
      "execution_count": null,
      "outputs": []
    },
    {
      "cell_type": "code",
      "source": [
        "from sklearn import metrics\n",
        "from sklearn.metrics import mean_absolute_percentage_error\n",
        "import math\n",
        "y_pred = rf.predict(x_test)\n",
        "mae = metrics.mean_absolute_error(y_test, y_pred)\n",
        "mape = mean_absolute_percentage_error(y_test, y_pred)\n",
        "mse = metrics.mean_squared_error(y_test, y_pred)\n",
        "r2 = metrics.r2_score(y_test, y_pred)\n",
        "rmse = math.sqrt(mse)\n",
        "print('MAE is {}'.format(mae))\n",
        "print('MAPE is {}'.format(mape))\n",
        "print('MSE is {}'.format(mse))\n",
        "print('R2 score is {}'.format(r2))\n",
        "print('RMSE score is {}'.format(rmse))"
      ],
      "metadata": {
        "id": "Ft2vROK0gVKI"
      },
      "execution_count": null,
      "outputs": []
    },
    {
      "cell_type": "code",
      "source": [
        "imp_df = pd.DataFrame({\n",
        "    \"Feature Name\" : x_train.columns,\n",
        "    \"Importance\" : dtree.feature_importances_\n",
        "})\n",
        "fi = imp_df.sort_values(by = \"Importance\", ascending = False)\n",
        "fi2 = fi.head(10)\n",
        "plt.figure(figsize = (10,8))\n",
        "sns.barplot(data = fi2, x = 'Importance', y = 'Feature Name')\n",
        "plt.title('Feature Importance Each Attributes (Random Forest Reggressor)', fontsize = 18)\n",
        "plt.xlabel('Importance', fontsize = 16)\n",
        "plt.ylabel('Feature Name', fontsize = 16)\n",
        "plt.show()"
      ],
      "metadata": {
        "id": "cfy87tA584e7"
      },
      "execution_count": null,
      "outputs": []
    },
    {
      "cell_type": "code",
      "source": [
        "import shap \n",
        "explainer = shap.TreeExplainer(rf)\n",
        "shap_values = explainer.shap_values(x_test)\n",
        "shap.summary_plot(shap_values, x_test)"
      ],
      "metadata": {
        "id": "cpwrwj4X84l4"
      },
      "execution_count": null,
      "outputs": []
    },
    {
      "cell_type": "code",
      "source": [
        "expaliner = shap.Explainer(rf,x_test, check_additivity = False)\n",
        "shap_values = explainer(x_test, check_additivity = False)\n",
        "shap.plots.waterfall(shap_values[0])"
      ],
      "metadata": {
        "id": "_-9vAz61Dd4b"
      },
      "execution_count": null,
      "outputs": []
    },
    {
      "cell_type": "markdown",
      "source": [
        "# **Adaboost** **Regressor**"
      ],
      "metadata": {
        "id": "7Pg9GYYg2K8n"
      }
    },
    {
      "cell_type": "code",
      "source": [
        "from sklearn.ensemble import AdaBoostRegressor\n",
        "from sklearn.model_selection import GridSearchCV\n",
        "# Define adaboostregressor model\n",
        "abr = AdaBoostRegressor()\n",
        "# Define hyperparameters & possible values\n",
        "params  ={'n_estimators' : [50,100,150],\n",
        "          'learning_rate' : [0.01, 0.1 ,1 ,10]\n",
        "          }\n",
        "# Perform GridSearchCV with 5 fold cross validation\n",
        "grid_search = GridSearchCV(abr, param_grid = params, cv = 5, scoring = 'neg_mean_squared_error')\n",
        "grid_search.fit(x_train, y_train)\n",
        "# Print best hyperparameter & corresponding score\n",
        "print(\"Best hyperparameters:\" ,grid_search.best_params_)"
      ],
      "metadata": {
        "id": "P4CjCfK0DeBO"
      },
      "execution_count": null,
      "outputs": []
    },
    {
      "cell_type": "code",
      "source": [
        "from sklearn.ensemble import RandomForestRegressor\n",
        "abr = AdaBoostRegressor(random_state = 0, learning_rate=1, n_estimators = 150)\n",
        "abr.fit(x_train, y_train)"
      ],
      "metadata": {
        "id": "gdbF9r-hDeGx"
      },
      "execution_count": null,
      "outputs": []
    },
    {
      "cell_type": "code",
      "source": [
        "from sklearn import metrics\n",
        "from sklearn.metrics import mean_absolute_percentage_error\n",
        "import math\n",
        "y_pred = abr.predict(x_test)\n",
        "mae = metrics.mean_absolute_error(y_test, y_pred)\n",
        "mape = mean_absolute_percentage_error(y_test, y_pred)\n",
        "mse = metrics.mean_squared_error(y_test, y_pred)\n",
        "r2 = metrics.r2_score(y_test, y_pred)\n",
        "rmse = math.sqrt(mse)\n",
        "print('MAE is {}'.format(mae))\n",
        "print('MAPE is {}'.format(mape))\n",
        "print('MSE is {}'.format(mse))\n",
        "print('R2 score is {}'.format(r2))\n",
        "print('RMSE score is {}'.format(rmse))"
      ],
      "metadata": {
        "id": "NC3TPSld9CvF"
      },
      "execution_count": null,
      "outputs": []
    },
    {
      "cell_type": "code",
      "source": [],
      "metadata": {
        "id": "U4WX-ZEF9C2O"
      },
      "execution_count": null,
      "outputs": []
    },
    {
      "cell_type": "code",
      "source": [],
      "metadata": {
        "id": "BEOYJXOgDeLy"
      },
      "execution_count": null,
      "outputs": []
    },
    {
      "cell_type": "code",
      "source": [],
      "metadata": {
        "id": "ci-UVpwYDeQQ"
      },
      "execution_count": null,
      "outputs": []
    }
  ]
}